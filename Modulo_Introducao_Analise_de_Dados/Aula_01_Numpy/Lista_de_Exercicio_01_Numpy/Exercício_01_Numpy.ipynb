{
  "nbformat": 4,
  "nbformat_minor": 0,
  "metadata": {
    "colab": {
      "provenance": []
    },
    "kernelspec": {
      "name": "python3",
      "display_name": "Python 3"
    },
    "language_info": {
      "name": "python"
    }
  },
  "cells": [
    {
      "cell_type": "markdown",
      "source": [
        "# Lista de Exercício 01 - Numpy"
      ],
      "metadata": {
        "id": "hcsPj2qmO4f9"
      }
    },
    {
      "cell_type": "markdown",
      "source": [
        "Nome dos integrantes do grupo: John Wesley, Heraldo Almeida, Ivo de Sousa"
      ],
      "metadata": {
        "id": "fR5Kca_oM7xN"
      }
    },
    {
      "cell_type": "markdown",
      "source": [
        "Questão 01. Você é um pesquisador de clima e deseja registrar as temperaturas diárias de uma cidade. Peça ao usuário para inserir as temperaturas de 7 dias consecutivos e, em seguida, exiba a temperatura média, a temperatura máxima, mínima, o dia em que a temperatura foi mais baixa e o dia que a temperatura foi mais alta."
      ],
      "metadata": {
        "id": "cL1RAJIj-uA4"
      }
    },
    {
      "cell_type": "code",
      "source": [
        "import numpy as np"
      ],
      "metadata": {
        "id": "rnrCWidYNg0p"
      },
      "execution_count": null,
      "outputs": []
    },
    {
      "cell_type": "code",
      "source": [
        "\n",
        "\n",
        "dias = np.array([float(input(\"Insira a temperatura do dia: \")) for i in range(7)])\n",
        "\n",
        "print(f\"Temperatura média: {np.mean(dias)}\")\n",
        "print(f\"Temperatura máxima: {np.max(dias)}\")\n",
        "print(f\"Temperatura mínima: {np.min(dias)}\")\n",
        "print(f\"Dia Temperatura máxima: {np.argmax(dias) + 1}\")\n",
        "print(f\"Dia Temperatura mínima: {np.argmin(dias) + 1}\")\n"
      ],
      "metadata": {
        "id": "DUNwvq4_-0by",
        "colab": {
          "base_uri": "https://localhost:8080/"
        },
        "outputId": "cd7c4671-ed82-49f7-f9f6-5bcbe2c96b96"
      },
      "execution_count": null,
      "outputs": [
        {
          "output_type": "stream",
          "name": "stdout",
          "text": [
            "Insira a temperatura do dia: 20\n",
            "Insira a temperatura do dia: 14\n",
            "Insira a temperatura do dia: 33\n",
            "Insira a temperatura do dia: 21\n",
            "Insira a temperatura do dia: 45\n",
            "Insira a temperatura do dia: 22\n",
            "Insira a temperatura do dia: 16\n",
            "Temperatura média: 24.428571428571427\n",
            "Temperatura máxima: 45.0\n",
            "Temperatura mínima: 14.0\n",
            "Dia Temperatura máxima: 5\n",
            "Dia Temperatura mínima: 2\n"
          ]
        }
      ]
    },
    {
      "cell_type": "markdown",
      "source": [
        "Questão 02. Você está trabalhando em um projeto de engenharia e deseja calcular a força resultante de várias forças. Solicite ao usuário para inserir os valores de 5 forças e, em seguida, calcule e exiba a força resultante (soma das forças)."
      ],
      "metadata": {
        "id": "tdXjflFA-7Om"
      }
    },
    {
      "cell_type": "code",
      "source": [
        "forca_resultante = np.array([float(input(\"Insira o valor da força: \")) for i in range(5)])\n",
        "\n",
        "print(f\"Força resultante: {np.sum(forca_resultante)}\")"
      ],
      "metadata": {
        "id": "Ki3vrzWE--jC",
        "colab": {
          "base_uri": "https://localhost:8080/"
        },
        "outputId": "b83a715e-adfe-4189-da2f-dc409eb478a2"
      },
      "execution_count": null,
      "outputs": [
        {
          "output_type": "stream",
          "name": "stdout",
          "text": [
            "Insira o valor da força: 1\n",
            "Insira o valor da força: 2\n",
            "Insira o valor da força: 3\n",
            "Insira o valor da força: 4\n",
            "Insira o valor da força: 5\n",
            "Força resultante: 15.0\n"
          ]
        }
      ]
    },
    {
      "cell_type": "markdown",
      "source": [
        "Questão 03. Você está trabalhando com um sistema de mapeamento e precisa realizar operações de indexação e fatiamento em um mapa representado por uma matriz. O mapa possui números inteiros aleatórios, e você precisa acessar os valores em posições específicas.\n",
        "\n",
        "1.   Crie uma matriz bidimensional (um mapa) com números inteiros aleatórios entre 1 e 100. Peça ao usuário para inserir o número de linhas e colunas para o mapa.\n",
        "2.   Solicite ao usuário que escolha uma linha e uma coluna no mapa.\n",
        "3.   Exiba o valor encontrado na posição escolhida."
      ],
      "metadata": {
        "id": "YOpnNOms--5e"
      }
    },
    {
      "cell_type": "code",
      "source": [
        "#Pede ao usuário o números e linhas e de colunas:\n",
        "linhas = int(input(\"Insira quantas linhas terão o mapa:\"))\n",
        "colunas = int(input(\"Insira quantas colunas terão o mapa:\"))\n",
        "\n",
        "#Gera uma matriz com numeros inteiros aleatorios de 0 a 100 e o numero de linhas e colunas é definido pelo usuário\n",
        "mapa = np.random.randint(1, 100, (linhas, colunas))\n",
        "print(f\"Mapa:\\n{mapa}\")\n",
        "\n",
        "#Solicita uma linha e uma coluna\n",
        "encontrar_linha = int(input(\"Insira a linha desejada: \"))\n",
        "encontrar_coluna = int(input(\"Insira a coluna desejada: \"))\n",
        "\n",
        "#armazena em uma váriavel o valor encontrado e em seguinda exibe na tela\n",
        "print(f\"Valor na posição ({encontrar_linha}, {encontrar_coluna})mapa: {mapa[encontrar_linha - 1][encontrar_coluna - 1]}\")\n"
      ],
      "metadata": {
        "id": "gHFJjWDr_CKN",
        "colab": {
          "base_uri": "https://localhost:8080/"
        },
        "outputId": "2963216f-803a-4411-b238-a54e238445d6"
      },
      "execution_count": null,
      "outputs": [
        {
          "output_type": "stream",
          "name": "stdout",
          "text": [
            "Insira quantas linhas terão o mapa:10\n",
            "Insira quantas colunas terão o mapa:10\n",
            "Mapa:\n",
            "[[61 35 33 47 72 65 96 66 53 25]\n",
            " [85 89 69 39 54 73 13 26 70 45]\n",
            " [86 24 21 23 53 16 59 44 40 77]\n",
            " [78 16 97  4 47 56 15 62  1 98]\n",
            " [48 85  8 69 49 80 53 98 25 54]\n",
            " [50 15 61 15 53 97 22 85 91 92]\n",
            " [16 27 60 15 39 24 46 60 66 80]\n",
            " [68 20 13 93 28 56 58 87 59 45]\n",
            " [95 60 55 52 71 93 65 86 91 79]\n",
            " [43 97 98 72 19 82 36 22 88 15]]\n",
            "Insira a linha desejada: 5\n",
            "Insira a coluna desejada: 2\n",
            "Valor na posição (5, 2)mapa: 85\n"
          ]
        }
      ]
    },
    {
      "cell_type": "markdown",
      "source": [
        "4Questão 04. Você está trabalhando em um projeto de pesquisa de mercado e deseja calcular as estatísticas de idade de um grupo de pessoas. Peça ao usuário para inserir as idades de 10 pessoas e, em seguida, calcule e exiba a média, a mediana e o desvio padrão das idades."
      ],
      "metadata": {
        "id": "5fZIjtka_Qui"
      }
    },
    {
      "cell_type": "code",
      "source": [
        "idades = np.array([float(input(\"Insira a idade: \")) for i in range(10)])\n",
        "\n",
        "print(f\"Média das idades: {np.mean(idades)}\")\n",
        "print(f\"Mediana das idades: {np.median(idades)}\")\n",
        "print(f\"Desvio padrão das idades: {np.std(idades)}\")"
      ],
      "metadata": {
        "id": "FVC-_fqP_XLp",
        "colab": {
          "base_uri": "https://localhost:8080/"
        },
        "outputId": "ab6403f1-69d2-4ce2-dbb8-d3160cd7b5fd"
      },
      "execution_count": null,
      "outputs": [
        {
          "output_type": "stream",
          "name": "stdout",
          "text": [
            "Insira a idade: 10\n",
            "Insira a idade: 20\n",
            "Insira a idade: 30\n",
            "Insira a idade: 40\n",
            "Insira a idade: 50\n",
            "Insira a idade: 60\n",
            "Insira a idade: 70\n",
            "Insira a idade: 80\n",
            "Insira a idade: 90\n",
            "Insira a idade: 100\n",
            "Média das idades: 55.0\n",
            "Mediana das idades: 55.0\n",
            "Desvio padrão das idades: 28.722813232690143\n"
          ]
        }
      ]
    },
    {
      "cell_type": "markdown",
      "source": [
        "Questão 05. Você está construindo um simulador de lançamento de dados e deseja gerar números aleatórios. Peça ao usuário para inserir o número de vezes que deseja lançar um dado de 6 faces. Em seguida, gere e exiba um vetor NumPy com os resultados desses lançamentos."
      ],
      "metadata": {
        "id": "1H03Xs7B_X4c"
      }
    },
    {
      "cell_type": "code",
      "source": [
        "vezes_jogadas = int(input(\"Insira o número de lançamentos: \"))\n",
        "lista_lancamentos = np.random.randint(1, 6, vezes_jogadas)\n",
        "print(f\"Resultados dos lançamentos: {lista_lancamentos}\")"
      ],
      "metadata": {
        "id": "aIzTUrw3_bgB",
        "colab": {
          "base_uri": "https://localhost:8080/"
        },
        "outputId": "5eed3044-fb68-4857-b2eb-870892b3d19b"
      },
      "execution_count": null,
      "outputs": [
        {
          "output_type": "stream",
          "name": "stdout",
          "text": [
            "Insira o número de lançamentos: 10\n",
            "Resultados dos lançamentos: [1 1 2 5 2 3 2 4 5 3]\n"
          ]
        }
      ]
    },
    {
      "cell_type": "markdown",
      "source": [
        "Questão 06. Você é um fotógrafo digital e está trabalhando em um projeto de processamento de imagens. Crie um array NumPy que represente uma imagem em escala de cinza com valores aleatórios. Normalize a imagem dividindo todos os valores pelo valor máximo possível (255). Exiba a imagem original e a imagem normalizada."
      ],
      "metadata": {
        "id": "_PQkALP5_cDL"
      }
    },
    {
      "cell_type": "code",
      "source": [
        "linhas = int(input(\"Digite o número de linhas da imagem: \"))\n",
        "colunas = int(input(\"Digite o número de colunas da imagem: \"))\n",
        "\n",
        "\n",
        "imagem_escala_cinza = np.random.randint(0, 255, (linhas,colunas))\n",
        "print(f\"Imagem original:\\n{imagem_escala_cinza}\\n\")\n",
        "\n",
        "imagem_normalizada = imagem_escala_cinza / 255\n",
        "print(f\"Imagem normalizada:\\n{imagem_normalizada}\")\n"
      ],
      "metadata": {
        "id": "G0vUy3Tq_jNX",
        "colab": {
          "base_uri": "https://localhost:8080/"
        },
        "outputId": "9112d804-f747-4847-c08f-b6f0d39f3027"
      },
      "execution_count": null,
      "outputs": [
        {
          "output_type": "stream",
          "name": "stdout",
          "text": [
            "Digite o número de linhas da imagem: 10\n",
            "Digite o número de colunas da imagem: 10\n",
            "Imagem original:\n",
            "[[ 40 252   2  32 233 129 190 213 152 137]\n",
            " [ 11  64 232  86 201 181 167 241  14 225]\n",
            " [ 89 234 226 196  52 237 103  80 165  30]\n",
            " [235 109 168 146  58 198 146  72 160  22]\n",
            " [247 120 103 158 172 171  86 144 234 207]\n",
            " [234 168  90 184  81  76 246   0  81 154]\n",
            " [130 145 106 128 245  79   8 170  11  20]\n",
            " [119  54  53 151 158  43  56 251  87 205]\n",
            " [ 46  96 147 219 244 161  27 124  38 208]\n",
            " [ 21 186 218  30 129 246  74  13  32 129]]\n",
            "\n",
            "Imagem normalizada:\n",
            "[[0.15686275 0.98823529 0.00784314 0.1254902  0.91372549 0.50588235\n",
            "  0.74509804 0.83529412 0.59607843 0.5372549 ]\n",
            " [0.04313725 0.25098039 0.90980392 0.3372549  0.78823529 0.70980392\n",
            "  0.65490196 0.94509804 0.05490196 0.88235294]\n",
            " [0.34901961 0.91764706 0.88627451 0.76862745 0.20392157 0.92941176\n",
            "  0.40392157 0.31372549 0.64705882 0.11764706]\n",
            " [0.92156863 0.42745098 0.65882353 0.57254902 0.22745098 0.77647059\n",
            "  0.57254902 0.28235294 0.62745098 0.08627451]\n",
            " [0.96862745 0.47058824 0.40392157 0.61960784 0.6745098  0.67058824\n",
            "  0.3372549  0.56470588 0.91764706 0.81176471]\n",
            " [0.91764706 0.65882353 0.35294118 0.72156863 0.31764706 0.29803922\n",
            "  0.96470588 0.         0.31764706 0.60392157]\n",
            " [0.50980392 0.56862745 0.41568627 0.50196078 0.96078431 0.30980392\n",
            "  0.03137255 0.66666667 0.04313725 0.07843137]\n",
            " [0.46666667 0.21176471 0.20784314 0.59215686 0.61960784 0.16862745\n",
            "  0.21960784 0.98431373 0.34117647 0.80392157]\n",
            " [0.18039216 0.37647059 0.57647059 0.85882353 0.95686275 0.63137255\n",
            "  0.10588235 0.48627451 0.14901961 0.81568627]\n",
            " [0.08235294 0.72941176 0.85490196 0.11764706 0.50588235 0.96470588\n",
            "  0.29019608 0.05098039 0.1254902  0.50588235]]\n"
          ]
        }
      ]
    },
    {
      "cell_type": "markdown",
      "source": [
        "11Questão 07. Neste exercício, você atua como um analista financeiro que lida com dados de investimentos. Considere o preço de fechamento diário de ações de uma empresa ao longo de uma semana. Crie um programa que execute as seguintes operações:\n",
        "\n",
        "Solicite ao usuário que insira os preços de fechamento diários da ação da empresa durante uma semana (7 dias). Armazene esses preços em um array NumPy.\n",
        "\n",
        "1. Calcule o retorno diário da ação, que é a diferença entre o preço de fechamento atual e o preço de fechamento do dia anterior.\n",
        "2. Calcule o retorno médio diário da ação.\n",
        "3. Calcule o desvio padrão dos retornos diários, que é uma medida de volatilidade."
      ],
      "metadata": {
        "id": "62HOk9fQAvlT"
      }
    },
    {
      "cell_type": "code",
      "source": [
        "preco_fechamento = np.array([float(input(f\"Digite o preço de fechamento do dia {i+1}: \")) for i in range(7)])\n",
        "retorno_diario = []\n",
        "\n",
        "for i in range(7):\n",
        "  if i == 0:\n",
        "    retorno_diario.append(preco_fechamento[i])\n",
        "  else:\n",
        "    retorno_diario.append(preco_fechamento[i] - preco_fechamento[i-1])\n",
        "\n",
        "retorno_diario = np.array(retorno_diario)\n",
        "\n",
        "print(f\"Retorno médio diário: {np.mean(retorno_diario)}\")\n",
        "print(f\"Desvio padrão dos retornos diários: {np.std(retorno_diario)}\")"
      ],
      "metadata": {
        "id": "8oG-ztPRA_5C",
        "colab": {
          "base_uri": "https://localhost:8080/"
        },
        "outputId": "09fbd7c1-ce92-4e5e-b7ca-79f212440482"
      },
      "execution_count": null,
      "outputs": [
        {
          "output_type": "stream",
          "name": "stdout",
          "text": [
            "Digite o preço de fechamento do dia 1: 10\n",
            "Digite o preço de fechamento do dia 2: 20\n",
            "Digite o preço de fechamento do dia 3: 30\n",
            "Digite o preço de fechamento do dia 4: 40\n",
            "Digite o preço de fechamento do dia 5: 50\n",
            "Digite o preço de fechamento do dia 6: 60\n",
            "Digite o preço de fechamento do dia 7: 70\n",
            "Retorno médio diário: 10.0\n",
            "Desvio padrão dos retornos diários: 0.0\n"
          ]
        }
      ]
    },
    {
      "cell_type": "markdown",
      "source": [
        "Questão 08. Você é responsável pelo controle de estoque de uma loja e deseja identificar quais produtos estão em baixo estoque. Crie um programa que permita ao usuário inserir o nome e a quantidade em estoque de vários produtos. Após inserir os dados de todos os produtos, o programa deverá usar o NumPy para identificar e exibir uma lista dos produtos que têm menos de uma quantidade específica em estoque.\n",
        "\n",
        "Instruções:\n",
        "\n",
        "1. Solicite ao usuário quantos produtos deseja inserir.\n",
        "2. Solicite a quantidade mínima em estoque que define o limite de \"baixo estoque\".\n",
        "3. Para cada produto, solicite o nome e a quantidade em estoque.\n",
        "4. Após inserir todos os produtos, use o NumPy para identificar os produtos que têm uma quantidade em estoque inferior à quantidade mínima especificada."
      ],
      "metadata": {
        "id": "72xl1FtxBAXS"
      }
    },
    {
      "cell_type": "code",
      "source": [
        "nme_produto = \"\"\n",
        "qtd_estoque = 0\n",
        "estoque = {}\n",
        "\n",
        "qtd_produtos = int(input(\"Quantos produtos deseja inserir? \"))\n",
        "alerta_estoque = int(input(\"Qual é a quantidade mínima para considerar baixo estoque? \"))\n",
        "\n",
        "for i in range(qtd_produtos):\n",
        "  nme_produto = input(\"Digite o nome do produto: \")\n",
        "  qtd_estoque = int(input(f\"Digite a quantidade em estoque para {nme_produto}: \"))\n",
        "\n",
        "  estoque[nme_produto] = {\"estoque\":qtd_estoque}\n",
        "\n",
        "#Array com o nome dos produtos\n",
        "protudos_alerta = np.array([(i) for i in estoque])\n",
        "\n",
        "#Array com o valor de estoque de cada produto\n",
        "baixo_estoque = np.array([(estoque[i]['estoque']) for i in estoque])\n",
        "\n",
        "#Filtrando apenas os produtos que possuem estoque abaixo da quantidade de alerta\n",
        "baixo_estoque = np.where(baixo_estoque < alerta_estoque)\n",
        "\n",
        "#Exibindo o nome dos produtos filtrados em alerta\n",
        "print(f\"Produtos em baixo estoque (menos de {alerta_estoque} unidades): \")\n",
        "for i in range(len(baixo_estoque[0])):\n",
        "  print(protudos_alerta[baixo_estoque[0][i]])"
      ],
      "metadata": {
        "id": "QhELuk6JCfa7",
        "colab": {
          "base_uri": "https://localhost:8080/"
        },
        "outputId": "23715c49-e4ef-4eb7-d348-f223870d78c0"
      },
      "execution_count": null,
      "outputs": [
        {
          "output_type": "stream",
          "name": "stdout",
          "text": [
            "Quantos produtos deseja inserir? 3\n",
            "Qual é a quantidade mínima para considerar baixo estoque? 5\n",
            "Digite o nome do produto: armário\n",
            "Digite a quantidade em estoque para armário: 2\n",
            "Digite o nome do produto: cadeira\n",
            "Digite a quantidade em estoque para cadeira: 10\n",
            "Digite o nome do produto: mesa\n",
            "Digite a quantidade em estoque para mesa: 5\n",
            "Produtos em baixo estoque (menos de 5 unidades): \n",
            "armário\n"
          ]
        }
      ]
    },
    {
      "cell_type": "code",
      "source": [],
      "metadata": {
        "id": "xfy_YFIUmqCT"
      },
      "execution_count": null,
      "outputs": []
    }
  ]
}