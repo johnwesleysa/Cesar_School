{
  "nbformat": 4,
  "nbformat_minor": 0,
  "metadata": {
    "colab": {
      "provenance": []
    },
    "kernelspec": {
      "name": "python3",
      "display_name": "Python 3"
    },
    "language_info": {
      "name": "python"
    }
  },
  "cells": [
    {
      "cell_type": "markdown",
      "source": [
        "# **Primeira aula de python**"
      ],
      "metadata": {
        "id": "WtyGpSl3quGk"
      }
    },
    {
      "cell_type": "code",
      "execution_count": null,
      "metadata": {
        "colab": {
          "base_uri": "https://localhost:8080/"
        },
        "id": "hkd2dlh2n87M",
        "outputId": "2453c196-5f69-42ab-9bfb-c152d5697561"
      },
      "outputs": [
        {
          "output_type": "stream",
          "name": "stdout",
          "text": [
            "Olá, mundo!\n"
          ]
        }
      ],
      "source": [
        "print(\"Olá, mundo!\")"
      ]
    },
    {
      "cell_type": "code",
      "source": [
        "print('Olá')"
      ],
      "metadata": {
        "colab": {
          "base_uri": "https://localhost:8080/"
        },
        "id": "Yzky33N8qCPU",
        "outputId": "762b7f18-0cff-4252-df90-b899135b39a1"
      },
      "execution_count": null,
      "outputs": [
        {
          "output_type": "stream",
          "name": "stdout",
          "text": [
            "Olá\n"
          ]
        }
      ]
    },
    {
      "cell_type": "markdown",
      "source": [
        "# **Numpy**"
      ],
      "metadata": {
        "id": "p13qMraLrqsB"
      }
    },
    {
      "cell_type": "code",
      "source": [
        "import time\n",
        "\n",
        "start_time = time.time()\n",
        "a = range(10000000)\n",
        "b = range(10000000)\n",
        "c = []\n",
        "\n",
        "for i in range(len(a)):\n",
        "  c.append(a[i] + b[i])\n",
        "\n",
        "elapsed_time = time.time() - start_time\n",
        "print(elapsed_time)"
      ],
      "metadata": {
        "colab": {
          "base_uri": "https://localhost:8080/"
        },
        "id": "Rqet1pJNrwce",
        "outputId": "03061ac1-14ff-4f33-dc01-3f4ca59d5836"
      },
      "execution_count": null,
      "outputs": [
        {
          "output_type": "stream",
          "name": "stdout",
          "text": [
            "5.575728893280029\n"
          ]
        }
      ]
    },
    {
      "cell_type": "code",
      "source": [
        "import numpy as np\n",
        "\n",
        "start_time = time.time()\n",
        "a = np.arange(10000000)\n",
        "b = np.arange(10000000)\n",
        "c = []\n",
        "\n",
        "c = a + b\n",
        "\n",
        "elapsed_time = time.time() - start_time\n",
        "print(elapsed_time)\n"
      ],
      "metadata": {
        "colab": {
          "base_uri": "https://localhost:8080/"
        },
        "id": "v_x-094Ms0UA",
        "outputId": "0d895359-99bd-43e5-9fbf-35c1907d066e"
      },
      "execution_count": null,
      "outputs": [
        {
          "output_type": "stream",
          "name": "stdout",
          "text": [
            "0.20363545417785645\n"
          ]
        }
      ]
    },
    {
      "cell_type": "markdown",
      "source": [
        "Criação de Arrays"
      ],
      "metadata": {
        "id": "05PLP3Mkuhn1"
      }
    },
    {
      "cell_type": "code",
      "source": [
        "# Criar um array NumPy a partir de uma lista\n",
        "\n",
        "lista = [1, 2, 3, 4, 5]\n",
        "array_lista = np.array(lista)\n",
        "print(f\"Array criado a partir de uma lista: {array_lista}\")"
      ],
      "metadata": {
        "colab": {
          "base_uri": "https://localhost:8080/"
        },
        "id": "e1e1eCMWuqdx",
        "outputId": "7bc8c4c9-112b-4348-dbf4-908c5c64e380"
      },
      "execution_count": null,
      "outputs": [
        {
          "output_type": "stream",
          "name": "stdout",
          "text": [
            "Array criado a partir de uma lista: [1 2 3 4 5]\n"
          ]
        }
      ]
    },
    {
      "cell_type": "code",
      "source": [
        "# Criar um array de zeros com forma especificada (3x4)\n",
        "array_zeros = np.zeros((3,4))\n",
        "print(array_zeros)"
      ],
      "metadata": {
        "colab": {
          "base_uri": "https://localhost:8080/"
        },
        "id": "Q1_9x25GvdTs",
        "outputId": "1db00fdb-f2f1-401d-c7d7-822cd5dcbe65"
      },
      "execution_count": null,
      "outputs": [
        {
          "output_type": "stream",
          "name": "stdout",
          "text": [
            "[[0. 0. 0. 0.]\n",
            " [0. 0. 0. 0.]\n",
            " [0. 0. 0. 0.]]\n"
          ]
        }
      ]
    },
    {
      "cell_type": "code",
      "source": [
        "# Criar um array de uns com forma especificada (2x2)\n",
        "arrays_uns = np.ones((2,2))\n",
        "print(arrays_uns)"
      ],
      "metadata": {
        "colab": {
          "base_uri": "https://localhost:8080/"
        },
        "id": "nILm-9BTwA-U",
        "outputId": "f3ceadb4-07df-420b-9874-045c2db0f4c7"
      },
      "execution_count": null,
      "outputs": [
        {
          "output_type": "stream",
          "name": "stdout",
          "text": [
            "[[1. 1.]\n",
            " [1. 1.]]\n"
          ]
        }
      ]
    },
    {
      "cell_type": "code",
      "source": [
        "# Criar um array com valores igualmente espaçados no intervalo de 0 a 9 (exclusivo)\n",
        "array_arange = np.arange(9)\n",
        "print(array_arange)"
      ],
      "metadata": {
        "colab": {
          "base_uri": "https://localhost:8080/"
        },
        "id": "rKGJtgjxwUrC",
        "outputId": "e386beea-01a6-4467-b9fd-e1108a665aac"
      },
      "execution_count": null,
      "outputs": [
        {
          "output_type": "stream",
          "name": "stdout",
          "text": [
            "[0 1 2 3 4 5 6 7 8]\n"
          ]
        }
      ]
    },
    {
      "cell_type": "code",
      "source": [
        "# Criar um array com valores igualmente espaçados entre 0 e 1 com 5 elementos\n",
        "array_linspace = np.linspace(0, 1, 5)\n",
        "print(array_linspace)"
      ],
      "metadata": {
        "colab": {
          "base_uri": "https://localhost:8080/"
        },
        "id": "NzmTP7Llw6j_",
        "outputId": "6b1dac6a-820a-421d-d87d-9bd8491d100e"
      },
      "execution_count": null,
      "outputs": [
        {
          "output_type": "stream",
          "name": "stdout",
          "text": [
            "[0.   0.25 0.5  0.75 1.  ]\n"
          ]
        }
      ]
    },
    {
      "cell_type": "markdown",
      "source": [
        "Operações Matemáticas"
      ],
      "metadata": {
        "id": "6ZVfErDYx2Gu"
      }
    },
    {
      "cell_type": "code",
      "source": [
        "import numpy as np"
      ],
      "metadata": {
        "id": "kEP5TcCczNea"
      },
      "execution_count": null,
      "outputs": []
    },
    {
      "cell_type": "code",
      "source": [
        "# Criando dois arrays\n",
        "array1 = np.array([1, 2, 3])\n",
        "array2 = np.array([4, 5, 6])"
      ],
      "metadata": {
        "id": "ewK5fbIOxeEw"
      },
      "execution_count": null,
      "outputs": []
    },
    {
      "cell_type": "code",
      "source": [
        "# Adição\n",
        "soma = array1 + array2\n",
        "print(f\"Soma: {soma}\")"
      ],
      "metadata": {
        "colab": {
          "base_uri": "https://localhost:8080/"
        },
        "id": "-tN1PcF2ybTx",
        "outputId": "850ab683-eecb-442d-b276-a614175eead3"
      },
      "execution_count": null,
      "outputs": [
        {
          "output_type": "stream",
          "name": "stdout",
          "text": [
            "Soma: [5 7 9]\n"
          ]
        }
      ]
    },
    {
      "cell_type": "code",
      "source": [
        "# Subtração\n",
        "subtracao = array1 - array2\n",
        "print(f\"Subtração: {subtracao}\")"
      ],
      "metadata": {
        "colab": {
          "base_uri": "https://localhost:8080/"
        },
        "id": "jLTU8eUTyqcT",
        "outputId": "6f643642-9824-4aa2-926b-0935811e6c60"
      },
      "execution_count": null,
      "outputs": [
        {
          "output_type": "stream",
          "name": "stdout",
          "text": [
            "Subtração: [-3 -3 -3]\n"
          ]
        }
      ]
    },
    {
      "cell_type": "code",
      "source": [
        "# Multiplicação\n",
        "multiplicacao = array1 * array2\n",
        "print(f\"Multiplicação: {multiplicacao}\")"
      ],
      "metadata": {
        "colab": {
          "base_uri": "https://localhost:8080/"
        },
        "id": "2rykLs4yy9NI",
        "outputId": "92f9d690-528e-4249-c267-92a6b12d63c4"
      },
      "execution_count": null,
      "outputs": [
        {
          "output_type": "stream",
          "name": "stdout",
          "text": [
            "Multiplicação: [ 4 10 18]\n"
          ]
        }
      ]
    },
    {
      "cell_type": "code",
      "source": [
        "# Divisão\n",
        "divisao = array1 / array2\n",
        "print(f\"Divisão: {divisao}\")"
      ],
      "metadata": {
        "colab": {
          "base_uri": "https://localhost:8080/"
        },
        "id": "FM67SFSfzxMw",
        "outputId": "24d581f8-eddb-4cc8-ee15-556f623ae2b2"
      },
      "execution_count": null,
      "outputs": [
        {
          "output_type": "stream",
          "name": "stdout",
          "text": [
            "Divisão: [0.25 0.4  0.5 ]\n"
          ]
        }
      ]
    },
    {
      "cell_type": "code",
      "source": [
        "# Produto escalar\n",
        "produto_escalar = np.dot(array1, array2)\n",
        "print(f\"Produto escalar: {produto_escalar}\")"
      ],
      "metadata": {
        "colab": {
          "base_uri": "https://localhost:8080/"
        },
        "id": "lKIxro6fz-7y",
        "outputId": "3c6853bf-735c-49c4-db08-ff3de9687964"
      },
      "execution_count": null,
      "outputs": [
        {
          "output_type": "stream",
          "name": "stdout",
          "text": [
            "Produto escalar: 32\n"
          ]
        }
      ]
    },
    {
      "cell_type": "code",
      "source": [
        "# Matriz transposta\n",
        "matriz = np.array([[1, 2, 3], [4, 5, 6]])\n",
        "matriz_transposta = np.transpose(matriz)\n",
        "print(\"Matriz:\")\n",
        "print(matriz)\n",
        "print(\"Matriz Transposta:\")\n",
        "print(matriz_transposta)"
      ],
      "metadata": {
        "colab": {
          "base_uri": "https://localhost:8080/"
        },
        "id": "E9pCjuX_0dhK",
        "outputId": "d8f8beb9-4009-4469-e45c-c96105f579db"
      },
      "execution_count": null,
      "outputs": [
        {
          "output_type": "stream",
          "name": "stdout",
          "text": [
            "Matriz:\n",
            "[[1 2 3]\n",
            " [4 5 6]]\n",
            "Matriz Transposta:\n",
            "[[1 4]\n",
            " [2 5]\n",
            " [3 6]]\n"
          ]
        }
      ]
    },
    {
      "cell_type": "markdown",
      "source": [
        "Indexação e Fatiamento"
      ],
      "metadata": {
        "id": "aCu0b9RO1Mvk"
      }
    },
    {
      "cell_type": "code",
      "source": [
        "# Crie um array NumPy com valores de 10 a 19\n",
        "arr = np.arange(10, 20)\n",
        "print(arr)"
      ],
      "metadata": {
        "colab": {
          "base_uri": "https://localhost:8080/"
        },
        "id": "8XFHY5qO08wo",
        "outputId": "f42b3a61-2af3-46d8-a0d9-e79ceecdb201"
      },
      "execution_count": null,
      "outputs": [
        {
          "output_type": "stream",
          "name": "stdout",
          "text": [
            "[10 11 12 13 14 15 16 17 18 19]\n"
          ]
        }
      ]
    },
    {
      "cell_type": "code",
      "source": [
        "# Acesse o elemento na posição 5 (índice 5)\n",
        "elemento = arr[5]\n",
        "print(elemento)"
      ],
      "metadata": {
        "colab": {
          "base_uri": "https://localhost:8080/"
        },
        "id": "s72BpLEK1Ze0",
        "outputId": "70db218d-dd04-483e-cde6-344c85df295c"
      },
      "execution_count": null,
      "outputs": [
        {
          "output_type": "stream",
          "name": "stdout",
          "text": [
            "15\n"
          ]
        }
      ]
    },
    {
      "cell_type": "code",
      "source": [
        "# Fatiamento: Selecione um subconjunto do array\n",
        "# Do índice 2 (inclusivo) ao índice 7 (exclusivo)\n",
        "subconjunto = arr[2:7]\n",
        "print(subconjunto)\n"
      ],
      "metadata": {
        "colab": {
          "base_uri": "https://localhost:8080/"
        },
        "id": "Pb8Ll7lw1ng1",
        "outputId": "b1d6927a-aa6a-4f2d-8cfe-96283713d0be"
      },
      "execution_count": null,
      "outputs": [
        {
          "output_type": "stream",
          "name": "stdout",
          "text": [
            "[12 13 14 15 16]\n"
          ]
        }
      ]
    },
    {
      "cell_type": "code",
      "source": [
        "# Fatiamento: Selecione um subconjunto do array com incremento (com passo)\n",
        "# Do índice 2 (inclusivo) ao índice 9 (exclusivo) com passo 2\n",
        "subconjunto_passo = arr[2:9:2]\n",
        "print(subconjunto_passo)"
      ],
      "metadata": {
        "colab": {
          "base_uri": "https://localhost:8080/"
        },
        "id": "M4gLIY892GxC",
        "outputId": "ef126e9f-f4d1-45ac-f1f8-ffc4a4bfe210"
      },
      "execution_count": null,
      "outputs": [
        {
          "output_type": "stream",
          "name": "stdout",
          "text": [
            "[12 14 16 18]\n"
          ]
        }
      ]
    },
    {
      "cell_type": "markdown",
      "source": [
        "Funções Estatísticas"
      ],
      "metadata": {
        "id": "6L656Kcc2gMD"
      }
    },
    {
      "cell_type": "code",
      "source": [
        "# Crie um array NumPy com valores de 0 a 9\n",
        "arr = np.arange(10)\n",
        "print(arr)"
      ],
      "metadata": {
        "colab": {
          "base_uri": "https://localhost:8080/"
        },
        "id": "jbNm_2nY2Y99",
        "outputId": "834d70b4-b2e1-475c-900d-600f321e05d5"
      },
      "execution_count": null,
      "outputs": [
        {
          "output_type": "stream",
          "name": "stdout",
          "text": [
            "[0 1 2 3 4 5 6 7 8 9]\n"
          ]
        }
      ]
    },
    {
      "cell_type": "code",
      "source": [
        "# Selecionando o menor valor\n",
        "menor = np.min(arr)\n",
        "index_menor = np.argmin(arr)\n",
        "print(f'Menor valor: {menor} no índice: {index_menor}')"
      ],
      "metadata": {
        "colab": {
          "base_uri": "https://localhost:8080/"
        },
        "id": "eSi56ExF216v",
        "outputId": "d35de3f7-26db-406a-d3cc-96caef59cbfd"
      },
      "execution_count": null,
      "outputs": [
        {
          "output_type": "stream",
          "name": "stdout",
          "text": [
            "Menor valor: 0 no índice: 0\n"
          ]
        }
      ]
    },
    {
      "cell_type": "code",
      "source": [
        "# Selecionando o maior valor\n",
        "maior = np.max(arr)\n",
        "index_maior = np.argmax(arr)\n",
        "print(f'Maior valor: {maior} no índice: {index_maior}')"
      ],
      "metadata": {
        "colab": {
          "base_uri": "https://localhost:8080/"
        },
        "id": "wA1uB-2o3FuI",
        "outputId": "5ed85038-b1b6-443a-8741-6a6af3c1feac"
      },
      "execution_count": null,
      "outputs": [
        {
          "output_type": "stream",
          "name": "stdout",
          "text": [
            "Maior valor: 9 no índice: 9\n"
          ]
        }
      ]
    },
    {
      "cell_type": "code",
      "source": [
        "# Calculando a média\n",
        "media = np.mean(arr)\n",
        "print(f'Média: {media}')"
      ],
      "metadata": {
        "colab": {
          "base_uri": "https://localhost:8080/"
        },
        "id": "39PVbIs03W8M",
        "outputId": "80500039-e40f-48ec-830a-24926a7593be"
      },
      "execution_count": null,
      "outputs": [
        {
          "output_type": "stream",
          "name": "stdout",
          "text": [
            "Média: 4.5\n"
          ]
        }
      ]
    },
    {
      "cell_type": "code",
      "source": [
        "# Calculando a mediana\n",
        "mediana = np.median(arr)\n",
        "print(f\"Mediana: {mediana}\")"
      ],
      "metadata": {
        "colab": {
          "base_uri": "https://localhost:8080/"
        },
        "id": "vYCaRlRR3hdA",
        "outputId": "ae9799c5-0273-4fc5-c41b-7c1eed909b01"
      },
      "execution_count": null,
      "outputs": [
        {
          "output_type": "stream",
          "name": "stdout",
          "text": [
            "Mediana: 4.5\n"
          ]
        }
      ]
    },
    {
      "cell_type": "code",
      "source": [
        "# Calculando o desvio padrão\n",
        "desvio_padrao = np.std(arr)\n",
        "print(f\"Desvio Padrão: {desvio_padrao}\")"
      ],
      "metadata": {
        "colab": {
          "base_uri": "https://localhost:8080/"
        },
        "id": "bainbJnP3p-e",
        "outputId": "62e1b571-0460-4597-edd6-601d4d1388ea"
      },
      "execution_count": null,
      "outputs": [
        {
          "output_type": "stream",
          "name": "stdout",
          "text": [
            "Desvio Padrão: 2.8722813232690143\n"
          ]
        }
      ]
    },
    {
      "cell_type": "code",
      "source": [
        "# Calculando a soma dos elementos\n",
        "soma = np.sum(arr)\n",
        "print(f\"Soma: {soma}\")"
      ],
      "metadata": {
        "colab": {
          "base_uri": "https://localhost:8080/"
        },
        "id": "5Xx_jDD331zL",
        "outputId": "7afa0fe9-3fc1-4d9e-b527-42ad93be808c"
      },
      "execution_count": null,
      "outputs": [
        {
          "output_type": "stream",
          "name": "stdout",
          "text": [
            "Soma: 45\n"
          ]
        }
      ]
    },
    {
      "cell_type": "markdown",
      "source": [
        "Manipulação de Arrays"
      ],
      "metadata": {
        "id": "JyicK7qT4KuL"
      }
    },
    {
      "cell_type": "code",
      "source": [
        "# Crie um array NumPy com valores de 0 a 9\n",
        "arr = np.arange(10)\n",
        "print(arr)"
      ],
      "metadata": {
        "colab": {
          "base_uri": "https://localhost:8080/"
        },
        "id": "ygHeKHHT3-HT",
        "outputId": "768d29ef-0d02-47a1-9789-d244c6a82269"
      },
      "execution_count": null,
      "outputs": [
        {
          "output_type": "stream",
          "name": "stdout",
          "text": [
            "[0 1 2 3 4 5 6 7 8 9]\n"
          ]
        }
      ]
    },
    {
      "cell_type": "code",
      "source": [
        "# Redimensionando o array para uma matriz 2x5\n",
        "matriz = np.reshape(arr, (2, 5))\n",
        "print(matriz)"
      ],
      "metadata": {
        "colab": {
          "base_uri": "https://localhost:8080/"
        },
        "id": "SgSm6r4z4U9W",
        "outputId": "89b1f834-f10e-49c3-ddce-07689a30820c"
      },
      "execution_count": null,
      "outputs": [
        {
          "output_type": "stream",
          "name": "stdout",
          "text": [
            "[[0 1 2 3 4]\n",
            " [5 6 7 8 9]]\n"
          ]
        }
      ]
    },
    {
      "cell_type": "code",
      "source": [
        "# Criando outro array NumPy\n",
        "arr2 = np.arange(10,20)\n",
        "print(arr2)"
      ],
      "metadata": {
        "colab": {
          "base_uri": "https://localhost:8080/"
        },
        "id": "8eNewBD04f0X",
        "outputId": "9373e43c-d6ae-42cf-dfa7-36247e66581d"
      },
      "execution_count": null,
      "outputs": [
        {
          "output_type": "stream",
          "name": "stdout",
          "text": [
            "[10 11 12 13 14 15 16 17 18 19]\n"
          ]
        }
      ]
    },
    {
      "cell_type": "code",
      "source": [
        "# Concatenando os dois arrays ao longo das linhas (eixo 0)\n",
        "matriz_2 = np.reshape(arr2, (2, 5))\n",
        "concatenado = np.concatenate((matriz, matriz_2), axis=0)\n",
        "print(concatenado)"
      ],
      "metadata": {
        "colab": {
          "base_uri": "https://localhost:8080/"
        },
        "id": "CHCKakLX4xFi",
        "outputId": "3f47a939-075c-4c76-8f93-e8098c0668cf"
      },
      "execution_count": null,
      "outputs": [
        {
          "output_type": "stream",
          "name": "stdout",
          "text": [
            "[[ 0  1  2  3  4]\n",
            " [ 5  6  7  8  9]\n",
            " [10 11 12 13 14]\n",
            " [15 16 17 18 19]]\n"
          ]
        }
      ]
    },
    {
      "cell_type": "code",
      "source": [
        "# Concatenando os dois arrays ao longo das colunas (eixo 1)\n",
        "matriz_2 = np.reshape(arr2, (2, 5))\n",
        "concatenado = np.concatenate((matriz, matriz_2), axis=1)\n",
        "print(concatenado)"
      ],
      "metadata": {
        "colab": {
          "base_uri": "https://localhost:8080/"
        },
        "id": "AF1a53SX5mk_",
        "outputId": "beb0415f-83a2-471d-8b05-ceb472333176"
      },
      "execution_count": null,
      "outputs": [
        {
          "output_type": "stream",
          "name": "stdout",
          "text": [
            "[[ 0  1  2  3  4 10 11 12 13 14]\n",
            " [ 5  6  7  8  9 15 16 17 18 19]]\n"
          ]
        }
      ]
    },
    {
      "cell_type": "code",
      "source": [
        "# Crie um array NumPy com valores de 0 a 9\n",
        "arr = np.arange(10)\n",
        "\n",
        "# Dividindo o array em três partes de tamanhos desiguais\n",
        "partes = np.array_split(arr, 3)\n",
        "partes_concatenadas = np.concatenate(partes)\n",
        "print(partes)\n",
        "print(partes_concatenadas)\n"
      ],
      "metadata": {
        "colab": {
          "base_uri": "https://localhost:8080/"
        },
        "id": "nVl0aXzK509T",
        "outputId": "e3316435-3244-477d-c233-b2be1dafd73e"
      },
      "execution_count": null,
      "outputs": [
        {
          "output_type": "stream",
          "name": "stdout",
          "text": [
            "[array([0, 1, 2, 3]), array([4, 5, 6]), array([7, 8, 9])]\n",
            "[0 1 2 3 4 5 6 7 8 9]\n"
          ]
        }
      ]
    },
    {
      "cell_type": "markdown",
      "source": [
        "Gerador de Números Aleatórios"
      ],
      "metadata": {
        "id": "djYVtJVp6_M5"
      }
    },
    {
      "cell_type": "code",
      "source": [
        "# Gerando 5 números aleatórios entre 0 e 1\n",
        "random_numbers = np.random.rand(5)\n",
        "print(random_numbers)"
      ],
      "metadata": {
        "colab": {
          "base_uri": "https://localhost:8080/"
        },
        "id": "WOK1JJCi7ACX",
        "outputId": "a0c405dc-8649-400a-f4b9-9c582563b500"
      },
      "execution_count": null,
      "outputs": [
        {
          "output_type": "stream",
          "name": "stdout",
          "text": [
            "[0.75554471 0.95687861 0.66698889 0.48166776 0.72945328]\n"
          ]
        }
      ]
    },
    {
      "cell_type": "code",
      "source": [
        "# Gerando 5 números aleatórios em uma distribuição normal (gaussiana)\n",
        "random_numbers = np.random.randn(5)\n",
        "print(random_numbers)"
      ],
      "metadata": {
        "colab": {
          "base_uri": "https://localhost:8080/"
        },
        "id": "C4Mw5k707JWn",
        "outputId": "cff25536-bbfc-4b7b-8e23-6c7ff2903a45"
      },
      "execution_count": null,
      "outputs": [
        {
          "output_type": "stream",
          "name": "stdout",
          "text": [
            "[ 0.1090675  -0.52269377  0.21475931  0.95183146  0.42846032]\n"
          ]
        }
      ]
    },
    {
      "cell_type": "code",
      "source": [
        "# Gerando 5 números inteiros aleatórios entre 1 e 10\n",
        "random_numbers = np.random.randint(1, 11, 5)\n",
        "print(random_numbers)"
      ],
      "metadata": {
        "colab": {
          "base_uri": "https://localhost:8080/"
        },
        "id": "Lt_zpHJn7cA0",
        "outputId": "08cd0e6d-2688-4a90-c6f3-30559f06b509"
      },
      "execution_count": null,
      "outputs": [
        {
          "output_type": "stream",
          "name": "stdout",
          "text": [
            "[ 9  8  7 10  9]\n"
          ]
        }
      ]
    },
    {
      "cell_type": "code",
      "source": [
        "# Gerando uma matriz (3, 4) com números inteiros aleatórios entre 1 e 10\n",
        "\n",
        "random_numbers = np.random.randint(1, 11, (3, 4))\n",
        "print(random_numbers)"
      ],
      "metadata": {
        "colab": {
          "base_uri": "https://localhost:8080/"
        },
        "id": "nKsq6p0v7u38",
        "outputId": "1b5a35c5-fb37-4826-e4f7-b519ea3d3f82"
      },
      "execution_count": null,
      "outputs": [
        {
          "output_type": "stream",
          "name": "stdout",
          "text": [
            "[[ 4  4  6  6]\n",
            " [ 9  9  4  9]\n",
            " [ 5  6  9 10]]\n"
          ]
        }
      ]
    },
    {
      "cell_type": "code",
      "source": [
        "# Gerando números inteiros aleatórios entre 10 e 40 (uniforme) com duas casas decimais\n",
        "\n",
        "random_numbers = np.random.uniform(10, 40, 30)\n",
        "random_numbers = np.round(random_numbers, 2)\n",
        "print(random_numbers)"
      ],
      "metadata": {
        "colab": {
          "base_uri": "https://localhost:8080/"
        },
        "id": "Ouwb0cY58K_0",
        "outputId": "16ab0ab8-7385-449b-cceb-99587f92c930"
      },
      "execution_count": null,
      "outputs": [
        {
          "output_type": "stream",
          "name": "stdout",
          "text": [
            "[10.21 37.3  38.27 24.3  21.27 31.64 31.41 15.52 31.87 29.37 25.05 31.91\n",
            " 30.89 18.89 12.09 33.12 23.24 29.39 30.34 21.57 39.46 13.02 24.36 24.56\n",
            " 38.15 26.27 21.14 38.03 11.08 20.62]\n"
          ]
        }
      ]
    },
    {
      "cell_type": "markdown",
      "source": [
        "Álgebra Linear"
      ],
      "metadata": {
        "id": "CbO7rxeo9M1N"
      }
    },
    {
      "cell_type": "code",
      "source": [
        "# Calcular as diferenças discretas entre elementos consecutivos em um array.\n",
        "arr = np.array([2, 4, 7, 11, 16])\n",
        "differences = np.diff(arr)\n",
        "print(differences)"
      ],
      "metadata": {
        "colab": {
          "base_uri": "https://localhost:8080/"
        },
        "id": "8VgUJLYH8l_s",
        "outputId": "f09575db-7cc1-4018-9fbd-1fb28e695c71"
      },
      "execution_count": null,
      "outputs": [
        {
          "output_type": "stream",
          "name": "stdout",
          "text": [
            "[2 3 4 5]\n"
          ]
        }
      ]
    },
    {
      "cell_type": "code",
      "source": [
        "# Definindo uma matriz\n",
        "matriz = np.array([[2, 3], [1, 4]])\n",
        "\n",
        "# Calculando a matriz inversa\n",
        "matriz_inversa = np.linalg.inv(matriz)\n",
        "\n",
        "print(matriz)\n",
        "print(matriz_inversa)"
      ],
      "metadata": {
        "colab": {
          "base_uri": "https://localhost:8080/"
        },
        "id": "08O2qLz49bd6",
        "outputId": "51baeb72-25b6-4af1-b23a-db0d0bf7fcff"
      },
      "execution_count": null,
      "outputs": [
        {
          "output_type": "stream",
          "name": "stdout",
          "text": [
            "[[2 3]\n",
            " [1 4]]\n",
            "[[ 0.8 -0.6]\n",
            " [-0.2  0.4]]\n"
          ]
        }
      ]
    },
    {
      "cell_type": "code",
      "source": [
        "# Calculando o determinante\n",
        "determinante = np.linalg.det(matriz)\n",
        "\n",
        "print(matriz)\n",
        "print(determinante)"
      ],
      "metadata": {
        "colab": {
          "base_uri": "https://localhost:8080/"
        },
        "id": "EFSXz4VR918L",
        "outputId": "e1011f15-5188-45d3-addd-752edc53bba1"
      },
      "execution_count": null,
      "outputs": [
        {
          "output_type": "stream",
          "name": "stdout",
          "text": [
            "[[2 3]\n",
            " [1 4]]\n",
            "5.000000000000001\n"
          ]
        }
      ]
    },
    {
      "cell_type": "markdown",
      "source": [
        "Funções de Comparação"
      ],
      "metadata": {
        "id": "RhK5oL0JCNAC"
      }
    },
    {
      "cell_type": "code",
      "source": [
        "# Exemplo Básico\n",
        "\n",
        "# Criar um array NumPy\n",
        "arr = np.array([1, 2, 3, 4, 5, 6])\n",
        "\n",
        "# Usar np.where() para obter os índices que atendem à condição\n",
        "resultado = np.where(arr > 3)\n",
        "\n",
        "print(resultado)\n",
        "\n"
      ],
      "metadata": {
        "colab": {
          "base_uri": "https://localhost:8080/"
        },
        "id": "GZLCKDY5-HZ4",
        "outputId": "530135ba-ac2f-43eb-d315-057d3be4a012"
      },
      "execution_count": null,
      "outputs": [
        {
          "output_type": "stream",
          "name": "stdout",
          "text": [
            "(array([3, 4, 5]),)\n"
          ]
        }
      ]
    },
    {
      "cell_type": "code",
      "source": [
        "# Exemplo de substituição\n",
        "\n",
        "arr = np.array([1, 2, 3, 4, 5, 6])\n",
        "\n",
        "# Usar np.where() para substituir valores com base em uma condição\n",
        "new_arr = np.where(arr < 3, -1, arr)\n",
        "print(new_arr)"
      ],
      "metadata": {
        "colab": {
          "base_uri": "https://localhost:8080/"
        },
        "id": "YVuhxX4kCfeh",
        "outputId": "bde5ab8c-e480-45d5-905a-52b8eb034634"
      },
      "execution_count": null,
      "outputs": [
        {
          "output_type": "stream",
          "name": "stdout",
          "text": [
            "[-1 -1  3  4  5  6]\n"
          ]
        }
      ]
    },
    {
      "cell_type": "code",
      "source": [
        "# Exemplo com condições múltiplas\n",
        "arr = np.array([1, 2, 3, 4, 5, 6])\n",
        "\n",
        "# Usar np.where() com condições múltiplas\n",
        "new_arr = np.where(arr < 3, -1, np.where(arr > 4, 10, arr)) #np.where(condição_1, valor_se_verdadeiro_1, np.where(condição_2, valor_se_verdadeiro_2, valor_se_falso))\n",
        "print(new_arr)"
      ],
      "metadata": {
        "colab": {
          "base_uri": "https://localhost:8080/"
        },
        "id": "ek1xx0N0DXCV",
        "outputId": "0f2ff26e-c862-4109-9ef7-219f3aed144d"
      },
      "execution_count": null,
      "outputs": [
        {
          "output_type": "stream",
          "name": "stdout",
          "text": [
            "[-1 -1  3  4 10 10]\n"
          ]
        }
      ]
    },
    {
      "cell_type": "markdown",
      "source": [
        "Seleção e Filtragem"
      ],
      "metadata": {
        "id": "UO9F3UzzFDdz"
      }
    },
    {
      "cell_type": "code",
      "source": [
        "# Criando um array de exemplo\n",
        "arr = np.arange(1, 11)\n",
        "\n",
        "# Selecionando apenas os elementos maiores que 5\n",
        "selecionados = arr[arr > 5]\n",
        "print(selecionados)"
      ],
      "metadata": {
        "colab": {
          "base_uri": "https://localhost:8080/"
        },
        "id": "PaKkJMtKFFAS",
        "outputId": "4ff05023-5cb0-4e48-860d-ba10d4d31804"
      },
      "execution_count": null,
      "outputs": [
        {
          "output_type": "stream",
          "name": "stdout",
          "text": [
            "[ 6  7  8  9 10]\n"
          ]
        }
      ]
    },
    {
      "cell_type": "code",
      "source": [
        "# Filtrando elementos pares\n",
        "filtrados = arr[arr % 2 == 0]\n",
        "print(filtrados)"
      ],
      "metadata": {
        "colab": {
          "base_uri": "https://localhost:8080/"
        },
        "id": "Ciy8BhaHFS2t",
        "outputId": "f4b9789a-03a3-456e-dfb8-feb57d66fa28"
      },
      "execution_count": null,
      "outputs": [
        {
          "output_type": "stream",
          "name": "stdout",
          "text": [
            "[ 2  4  6  8 10]\n"
          ]
        }
      ]
    },
    {
      "cell_type": "code",
      "source": [
        "# Selecionando elementos dentro de um intervalo\n",
        "intervalo = arr[(arr >= 3) & (arr <= 7)]\n",
        "print(intervalo)"
      ],
      "metadata": {
        "colab": {
          "base_uri": "https://localhost:8080/"
        },
        "id": "9NgCfMwyFbnB",
        "outputId": "d94e69af-c1c2-4580-ec67-f28e2af199ac"
      },
      "execution_count": null,
      "outputs": [
        {
          "output_type": "stream",
          "name": "stdout",
          "text": [
            "[3 4 5 6 7]\n"
          ]
        }
      ]
    },
    {
      "cell_type": "markdown",
      "source": [
        "Exercícios\n",
        "\n",
        "1.   Import Numpy como np\n",
        "2.   Crie uma array de 10 zeros\n",
        "3.   Crie um array de inteiros de 10 até 50\n",
        "4.   Crie um array dos números pares de 10 até 50\n",
        "5.   Criei uma matriz 3x3 com valores variando de 0 até 8\n",
        "6.   Crie uma matriz identidade 3x3\n",
        "7.   Use NumPy para gerar números aleatórios entre 0 e 1\n",
        "8.   Inserir 5 números inteiros em um array a partir do input()"
      ],
      "metadata": {
        "id": "KsEY7EJOGe9S"
      }
    },
    {
      "cell_type": "code",
      "source": [
        "import numpy as np"
      ],
      "metadata": {
        "id": "NbgPDgS-Fyr7"
      },
      "execution_count": null,
      "outputs": []
    },
    {
      "cell_type": "code",
      "source": [
        "array_zeros = np.zeros(10)\n",
        "print(array_zeros)"
      ],
      "metadata": {
        "colab": {
          "base_uri": "https://localhost:8080/"
        },
        "id": "akWafDZ9G3u6",
        "outputId": "d074c604-836b-49ac-e402-5b30bff2f94a"
      },
      "execution_count": null,
      "outputs": [
        {
          "output_type": "stream",
          "name": "stdout",
          "text": [
            "[0. 0. 0. 0. 0. 0. 0. 0. 0. 0.]\n"
          ]
        }
      ]
    },
    {
      "cell_type": "code",
      "source": [
        "array_inteiros = np.arange(10, 51)\n",
        "print(array_inteiros)"
      ],
      "metadata": {
        "colab": {
          "base_uri": "https://localhost:8080/"
        },
        "id": "Eow_8HCIG9cX",
        "outputId": "f6ea10a4-f766-48fc-88ae-2d3286b1efe7"
      },
      "execution_count": null,
      "outputs": [
        {
          "output_type": "stream",
          "name": "stdout",
          "text": [
            "[10 11 12 13 14 15 16 17 18 19 20 21 22 23 24 25 26 27 28 29 30 31 32 33\n",
            " 34 35 36 37 38 39 40 41 42 43 44 45 46 47 48 49 50]\n"
          ]
        }
      ]
    },
    {
      "cell_type": "code",
      "source": [
        "array_inteiros = np.arange(10, 51, 2)\n",
        "print(array_inteiros)"
      ],
      "metadata": {
        "colab": {
          "base_uri": "https://localhost:8080/"
        },
        "id": "7UE3GgSfHFhR",
        "outputId": "fa41ed11-5601-4cb5-b1e3-1f93eece87e8"
      },
      "execution_count": null,
      "outputs": [
        {
          "output_type": "stream",
          "name": "stdout",
          "text": [
            "[10 12 14 16 18 20 22 24 26 28 30 32 34 36 38 40 42 44 46 48 50]\n"
          ]
        }
      ]
    },
    {
      "cell_type": "code",
      "source": [
        "matriz_3_3 = np.arange(9).reshape(3, 3)\n",
        "print(matriz_3_3)"
      ],
      "metadata": {
        "colab": {
          "base_uri": "https://localhost:8080/"
        },
        "id": "GrYT7inaHLBo",
        "outputId": "5fb49433-ad95-40d2-c7f1-f42186d7b17b"
      },
      "execution_count": null,
      "outputs": [
        {
          "output_type": "stream",
          "name": "stdout",
          "text": [
            "[[0 1 2]\n",
            " [3 4 5]\n",
            " [6 7 8]]\n"
          ]
        }
      ]
    },
    {
      "cell_type": "code",
      "source": [
        "matriz_identidade = np.eye(3)\n",
        "print(matriz_identidade)"
      ],
      "metadata": {
        "colab": {
          "base_uri": "https://localhost:8080/"
        },
        "id": "U-hxfCKwHaqh",
        "outputId": "a1fcb77b-96b0-44ee-adbb-c279e0b808ed"
      },
      "execution_count": null,
      "outputs": [
        {
          "output_type": "stream",
          "name": "stdout",
          "text": [
            "[[1. 0. 0.]\n",
            " [0. 1. 0.]\n",
            " [0. 0. 1.]]\n"
          ]
        }
      ]
    },
    {
      "cell_type": "code",
      "source": [
        "numeros_aleatorios = np.random.rand(5, 5)\n",
        "print(numeros_aleatorios)"
      ],
      "metadata": {
        "colab": {
          "base_uri": "https://localhost:8080/"
        },
        "id": "gYZNs0pqHyvM",
        "outputId": "0f1ecb13-9d2e-4adc-b477-79459069c54c"
      },
      "execution_count": null,
      "outputs": [
        {
          "output_type": "stream",
          "name": "stdout",
          "text": [
            "[[0.0894838  0.76440891 0.32614867 0.94576953 0.26938573]\n",
            " [0.30432336 0.82090419 0.0580252  0.32615654 0.77581212]\n",
            " [0.95035084 0.9174656  0.12935745 0.9200291  0.80432215]\n",
            " [0.9014307  0.08429448 0.62488088 0.62855312 0.6264153 ]\n",
            " [0.98074232 0.80237245 0.71884584 0.93543597 0.43503074]]\n"
          ]
        }
      ]
    },
    {
      "cell_type": "code",
      "source": [
        "random_numbers = np.random.rand(1, 11, 5)"
      ],
      "metadata": {
        "id": "Jo5tISSCIILG"
      },
      "execution_count": null,
      "outputs": []
    },
    {
      "cell_type": "code",
      "source": [
        "lista = []\n",
        "for i in range(5):\n",
        "  lista.append(int(input(\"Digite um número: \")))\n",
        "\n",
        "arr = np.array(lista)"
      ],
      "metadata": {
        "colab": {
          "base_uri": "https://localhost:8080/"
        },
        "id": "kzH5O9s-Jd27",
        "outputId": "4d23542e-2c60-4197-c028-8d8417f74c55"
      },
      "execution_count": null,
      "outputs": [
        {
          "name": "stdout",
          "output_type": "stream",
          "text": [
            "Digite um número: 1\n",
            "Digite um número: 2\n",
            "Digite um número: 3\n",
            "Digite um número: 4\n",
            "Digite um número: 5\n"
          ]
        }
      ]
    },
    {
      "cell_type": "code",
      "source": [
        "arr = np.array([int(input(\"Digite um número: \")) for i in range(5)])"
      ],
      "metadata": {
        "colab": {
          "base_uri": "https://localhost:8080/"
        },
        "id": "DtEFGsHDJ_0z",
        "outputId": "4ddcd12e-a1b9-4edf-e538-00a3c5099574"
      },
      "execution_count": null,
      "outputs": [
        {
          "name": "stdout",
          "output_type": "stream",
          "text": [
            "Digite um número: 1\n",
            "Digite um número: 2\n",
            "Digite um número: 3\n",
            "Digite um número: 4\n",
            "Digite um número: 5\n"
          ]
        }
      ]
    },
    {
      "cell_type": "code",
      "source": [],
      "metadata": {
        "id": "5u0ZwIBkKQhW"
      },
      "execution_count": null,
      "outputs": []
    }
  ]
}